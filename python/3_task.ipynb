{
 "cells": [
  {
   "cell_type": "markdown",
   "id": "657be689",
   "metadata": {
    "pycharm": {
     "name": "#%% md\n"
    }
   },
   "source": [
    "# Самостоятельное задание #3\n",
    "\n",
    "\n",
    "### Задание 1\n",
    "\n",
    "Допишите функцию, которая принимает массив из 10 чисел и возвращает их сумму."
   ]
  },
  {
   "cell_type": "code",
   "execution_count": 54,
   "id": "18ffcbab",
   "metadata": {
    "pycharm": {
     "name": "#%%\n"
    }
   },
   "outputs": [],
   "source": [
    "def sum_arr(arr: list) -> int:\n",
    "    return sum(list)"
   ]
  },
  {
   "cell_type": "markdown",
   "id": "eb78afc0",
   "metadata": {
    "pycharm": {
     "name": "#%% md\n"
    }
   },
   "source": [
    "\n",
    "### Задание 2\n",
    "\n",
    "Допишите функцию, которая принимает массив чисел и возвращает количество чисел равных нулю."
   ]
  },
  {
   "cell_type": "code",
   "execution_count": 55,
   "id": "7e8fe536",
   "metadata": {
    "pycharm": {
     "name": "#%%\n"
    }
   },
   "outputs": [],
   "source": [
    "def count_zero(arr: list) -> int:\n",
    "    return arr.count(0)"
   ]
  },
  {
   "cell_type": "markdown",
   "id": "570d5a26",
   "metadata": {
    "pycharm": {
     "name": "#%% md\n"
    }
   },
   "source": [
    "\n",
    "### Задание 3\n",
    "\n",
    "Напишите программу, в которой задается  натуральное число n и выводится лестница из n ступенек, i-я ступенька должна состоять из чисел от 1 до i без пробелов."
   ]
  },
  {
   "cell_type": "code",
   "execution_count": 56,
   "id": "69fd0501",
   "metadata": {
    "pycharm": {
     "name": "#%%\n"
    }
   },
   "outputs": [],
   "source": [
    "def ladder(size: int):\n",
    "    for i in range(size + 1):\n",
    "        for x in range(1, i + 1):\n",
    "            print(x, end='')\n",
    "        print()"
   ]
  },
  {
   "cell_type": "markdown",
   "id": "b6ef1c44",
   "metadata": {
    "pycharm": {
     "name": "#%% md\n"
    }
   },
   "source": [
    "\n",
    "### Задание 4\n",
    "\n",
    "Напишите программу, в которой задается натуральное число n и выводится пирамида из n ступенек, i-я ступень должна состоять из чисел от 1 до i и обратно без пробелов."
   ]
  },
  {
   "cell_type": "code",
   "execution_count": 57,
   "id": "6b038f87",
   "metadata": {
    "pycharm": {
     "name": "#%%\n"
    }
   },
   "outputs": [],
   "source": [
    "def ladder_full(size: int):\n",
    "    for i in range(size + 1):\n",
    "        for x in range(1, i + 1):\n",
    "            print(x, end='')\n",
    "        for x in range(i - 1, 0, -1):\n",
    "            print(x, end='')\n",
    "        print()"
   ]
  },
  {
   "cell_type": "markdown",
   "id": "b4552ef5",
   "metadata": {
    "pycharm": {
     "name": "#%% md\n"
    }
   },
   "source": [
    "\n",
    "### Задание 5\n",
    "\n",
    "Напишите программу, в которой задается натуральное число n и выводится ромб из `n*2-1` ступенек, i-я ступень должна состоять из чисел от 1 до i и обратно без пробелов."
   ]
  },
  {
   "cell_type": "code",
   "execution_count": 58,
   "id": "5eaae897",
   "metadata": {
    "pycharm": {
     "name": "#%%\n"
    }
   },
   "outputs": [
    {
     "name": "stdout",
     "output_type": "stream",
     "text": [
      "  1\n",
      " 121\n",
      "12321\n",
      " 121\n",
      "  1\n"
     ]
    }
   ],
   "source": [
    "def ladder_rhomb(size: int):\n",
    "    for row in range(size * 2 - 1):\n",
    "        if row <= ((size * 2 - 1) // 2):\n",
    "            print(\" \" * ((size * 2 - 1 - row) % size), end='')\n",
    "            for x in range(0, row + 1):\n",
    "                print(x + 1, end='')\n",
    "            for x in range(row, 0, -1):\n",
    "                print(x, end='')\n",
    "            print()\n",
    "        else:\n",
    "            print(\" \" * (size - (size * 2 - 1 - row) % size), end='')\n",
    "            for x in range(0, (size * 2 - 1) - row):\n",
    "                print(x + 1, end='')\n",
    "            for x in range((size * 2 - 1) - row - 1, 0, -1):\n",
    "                print(x, end='')\n",
    "            print()\n",
    "\n",
    "\n",
    "ladder_rhomb(3)"
   ]
  }
 ],
 "metadata": {
  "kernelspec": {
   "display_name": "Python 3 (ipykernel)",
   "language": "python",
   "name": "python3"
  },
  "language_info": {
   "codemirror_mode": {
    "name": "ipython",
    "version": 3
   },
   "file_extension": ".py",
   "mimetype": "text/x-python",
   "name": "python",
   "nbconvert_exporter": "python",
   "pygments_lexer": "ipython3",
   "version": "3.8.5"
  }
 },
 "nbformat": 4,
 "nbformat_minor": 5
}