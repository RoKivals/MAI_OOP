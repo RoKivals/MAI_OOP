{
 "cells": [
  {
   "cell_type": "markdown",
   "id": "246424fe",
   "metadata": {
    "pycharm": {
     "name": "#%% md\n"
    }
   },
   "source": [
    "# Самостоятельная работа #2\n",
    "### Задание 1\n",
    "\n",
    "Допишите функцию, которая принимает 2 числа, сравнивает между собой и возвращает наименьшее."
   ]
  },
  {
   "cell_type": "code",
   "execution_count": null,
   "id": "1b225d18",
   "metadata": {
    "pycharm": {
     "name": "#%%\n"
    }
   },
   "outputs": [],
   "source": [
    "def compare(first:[int, str], second:[int, str]): return min(int(first), int(second))"
   ]
  },
  {
   "cell_type": "markdown",
   "id": "9342d85f",
   "metadata": {
    "pycharm": {
     "name": "#%% md\n"
    }
   },
   "source": [
    "### Задание 2\n",
    "\n",
    "Допишите функцию, которая принимает 3 числа, сравнивает между собой и возвращает наименьшее."
   ]
  },
  {
   "cell_type": "code",
   "execution_count": null,
   "id": "5371aa95",
   "metadata": {
    "pycharm": {
     "name": "#%%\n"
    }
   },
   "outputs": [],
   "source": [
    "def compare_3(first:[int, str], second:[int, str], third:[int, str]) -> int: return min(int(first), int(second), int(third))"
   ]
  },
  {
   "cell_type": "markdown",
   "id": "9ef85dfd",
   "metadata": {
    "pycharm": {
     "name": "#%% md\n"
    }
   },
   "source": [
    "### Задание 3\n",
    "\n",
    "Допишите функцию, которая принимает 3 числа, сравнивает между собой и возвращает количество совпадающих чисел. Соответственно, программа может возвращать одно из трех чисел: 3 - если совпадают все, 2 - если совпадают 2 числа, 0 - если все числа различны."
   ]
  },
  {
   "cell_type": "code",
   "execution_count": null,
   "id": "ec6a169c",
   "metadata": {
    "pycharm": {
     "name": "#%%\n"
    }
   },
   "outputs": [],
   "source": [
    "def identical(first: [int, float, str], second:[int, float, str], third:[int, float, str]) -> int:\n",
    "    count = 0\n",
    "    if str(first) == str(second):\n",
    "        count = 2\n",
    "        if str(first) == str(third):\n",
    "            count = 3\n",
    "    elif str(first) == str(third):\n",
    "        count = 2\n",
    "    elif str(second) == str(third):\n",
    "        count = 2\n",
    "    else:\n",
    "        count = 0\n",
    "\n",
    "    return count"
   ]
  }
 ],
 "metadata": {
  "kernelspec": {
   "display_name": "Python 3 (ipykernel)",
   "language": "python",
   "name": "python3"
  },
  "language_info": {
   "codemirror_mode": {
    "name": "ipython",
    "version": 3
   },
   "file_extension": ".py",
   "mimetype": "text/x-python",
   "name": "python",
   "nbconvert_exporter": "python",
   "pygments_lexer": "ipython3",
   "version": "3.8.5"
  }
 },
 "nbformat": 4,
 "nbformat_minor": 5
}