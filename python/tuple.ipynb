{
 "cells": [
  {
   "cell_type": "markdown",
   "id": "14bd3e1b",
   "metadata": {
    "pycharm": {
     "name": "#%% md\n"
    }
   },
   "source": [
    "# Кортежи\n",
    "\n",
    "Как говорилось ранее, кортежи это неизменяемые списки. Их удобно использовать для защиты данных, которые не должны быть изменены. Создать кортеж можно следующим образом:"
   ]
  },
  {
   "cell_type": "code",
   "execution_count": 1,
   "id": "974bff76",
   "metadata": {
    "pycharm": {
     "name": "#%%\n"
    }
   },
   "outputs": [
    {
     "name": "stdout",
     "output_type": "stream",
     "text": [
      "(1, 2, 3, 4, 5, 6)\n"
     ]
    }
   ],
   "source": [
    "a = (1, 2, 3, 4, 5, 6)\n",
    "print(a)"
   ]
  },
  {
   "cell_type": "markdown",
   "id": "b4c54d95",
   "metadata": {
    "pycharm": {
     "name": "#%% md\n"
    }
   },
   "source": [
    "Чтобы создать пустой кортеж, необходимо применить метод `tuple()`:"
   ]
  },
  {
   "cell_type": "code",
   "execution_count": 2,
   "id": "506bd38c",
   "metadata": {
    "pycharm": {
     "name": "#%%\n"
    }
   },
   "outputs": [
    {
     "name": "stdout",
     "output_type": "stream",
     "text": [
      "()\n"
     ]
    }
   ],
   "source": [
    "a = tuple()\n",
    "print(a)"
   ]
  },
  {
   "cell_type": "markdown",
   "id": "9cd76352",
   "metadata": {
    "pycharm": {
     "name": "#%% md\n"
    }
   },
   "source": [
    "Если вам нужен кортеж из одного элемента, то он создается следующим образом:"
   ]
  },
  {
   "cell_type": "code",
   "execution_count": 3,
   "id": "2db5f22f",
   "metadata": {
    "pycharm": {
     "name": "#%%\n"
    }
   },
   "outputs": [
    {
     "name": "stdout",
     "output_type": "stream",
     "text": [
      "(1,)\n"
     ]
    }
   ],
   "source": [
    "a = (1,)\n",
    "print(a)"
   ]
  },
  {
   "cell_type": "markdown",
   "id": "9d62bc94",
   "metadata": {
    "pycharm": {
     "name": "#%% md\n"
    }
   },
   "source": [
    "Если не указать на конце запятую, тогда мы получим не кортеж, а элемент того типа, который мы указали:"
   ]
  },
  {
   "cell_type": "code",
   "execution_count": 4,
   "id": "bca4e0e2",
   "metadata": {
    "pycharm": {
     "name": "#%%\n"
    }
   },
   "outputs": [
    {
     "name": "stdout",
     "output_type": "stream",
     "text": [
      "1\n"
     ]
    }
   ],
   "source": [
    "a = (1)\n",
    "print(a)"
   ]
  },
  {
   "cell_type": "markdown",
   "id": "ce4a9e2d",
   "metadata": {
    "pycharm": {
     "name": "#%% md\n"
    }
   },
   "source": [
    "Кстати, необязательно даже указывать скобки, кортеж можно создать и без них:"
   ]
  },
  {
   "cell_type": "code",
   "execution_count": 5,
   "id": "b97e8116",
   "metadata": {
    "pycharm": {
     "name": "#%%\n"
    }
   },
   "outputs": [
    {
     "name": "stdout",
     "output_type": "stream",
     "text": [
      "(1, 2, 3, 4)\n"
     ]
    }
   ],
   "source": [
    "a = 1, 2, 3, 4\n",
    "print(a)"
   ]
  },
  {
   "cell_type": "markdown",
   "id": "f2f59f13",
   "metadata": {
    "pycharm": {
     "name": "#%% md\n"
    }
   },
   "source": [
    "Над кортежами работают все операции, работающие со списками, которые не вносят изменения в список."
   ]
  }
 ],
 "metadata": {
  "kernelspec": {
   "display_name": "Python 3",
   "language": "python",
   "name": "python3"
  },
  "language_info": {
   "codemirror_mode": {
    "name": "ipython",
    "version": 3
   },
   "file_extension": ".py",
   "mimetype": "text/x-python",
   "name": "python",
   "nbconvert_exporter": "python",
   "pygments_lexer": "ipython3",
   "version": "3.9.7"
  }
 },
 "nbformat": 4,
 "nbformat_minor": 5
}